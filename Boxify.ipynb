{
 "cells": [
  {
   "cell_type": "code",
   "execution_count": 6,
   "id": "73d9bd63-c38c-4df9-937c-e3f02a3e5f3b",
   "metadata": {},
   "outputs": [],
   "source": [
    "import pandas as pd\n",
    "import warnings\n",
    "warnings.filterwarnings(\"ignore\")"
   ]
  },
  {
   "cell_type": "code",
   "execution_count": 7,
   "id": "562073a3-b0fd-478f-865c-cfb48f83aa0f",
   "metadata": {},
   "outputs": [],
   "source": [
    "da= pd.read_csv(\"Boxify Dataset.csv\")"
   ]
  },
  {
   "cell_type": "code",
   "execution_count": 8,
   "id": "d11a9f1b-2bc9-4c2f-85fc-0deb4705a2ce",
   "metadata": {},
   "outputs": [
    {
     "data": {
      "text/html": [
       "<div>\n",
       "<style scoped>\n",
       "    .dataframe tbody tr th:only-of-type {\n",
       "        vertical-align: middle;\n",
       "    }\n",
       "\n",
       "    .dataframe tbody tr th {\n",
       "        vertical-align: top;\n",
       "    }\n",
       "\n",
       "    .dataframe thead th {\n",
       "        text-align: right;\n",
       "    }\n",
       "</style>\n",
       "<table border=\"1\" class=\"dataframe\">\n",
       "  <thead>\n",
       "    <tr style=\"text-align: right;\">\n",
       "      <th></th>\n",
       "      <th>Order</th>\n",
       "      <th>File_Type</th>\n",
       "      <th>SKU_number</th>\n",
       "      <th>SoldFlag</th>\n",
       "      <th>SoldCount</th>\n",
       "      <th>MarketingType</th>\n",
       "      <th>ReleaseNumber</th>\n",
       "      <th>New_Release_Flag</th>\n",
       "      <th>StrengthFactor</th>\n",
       "      <th>PriceReg</th>\n",
       "      <th>ReleaseYear</th>\n",
       "      <th>ItemCount</th>\n",
       "      <th>LowUserPrice</th>\n",
       "      <th>LowNetPrice</th>\n",
       "    </tr>\n",
       "  </thead>\n",
       "  <tbody>\n",
       "    <tr>\n",
       "      <th>0</th>\n",
       "      <td>2</td>\n",
       "      <td>Historical</td>\n",
       "      <td>1737127</td>\n",
       "      <td>0.0</td>\n",
       "      <td>0.0</td>\n",
       "      <td>D</td>\n",
       "      <td>15</td>\n",
       "      <td>1</td>\n",
       "      <td>6.827430e+05</td>\n",
       "      <td>44.99</td>\n",
       "      <td>2015</td>\n",
       "      <td>8</td>\n",
       "      <td>28.97</td>\n",
       "      <td>31.84</td>\n",
       "    </tr>\n",
       "    <tr>\n",
       "      <th>1</th>\n",
       "      <td>3</td>\n",
       "      <td>Historical</td>\n",
       "      <td>3255963</td>\n",
       "      <td>0.0</td>\n",
       "      <td>0.0</td>\n",
       "      <td>D</td>\n",
       "      <td>7</td>\n",
       "      <td>1</td>\n",
       "      <td>1.016014e+06</td>\n",
       "      <td>24.81</td>\n",
       "      <td>2005</td>\n",
       "      <td>39</td>\n",
       "      <td>0.00</td>\n",
       "      <td>15.54</td>\n",
       "    </tr>\n",
       "    <tr>\n",
       "      <th>2</th>\n",
       "      <td>4</td>\n",
       "      <td>Historical</td>\n",
       "      <td>612701</td>\n",
       "      <td>0.0</td>\n",
       "      <td>0.0</td>\n",
       "      <td>D</td>\n",
       "      <td>0</td>\n",
       "      <td>0</td>\n",
       "      <td>3.404640e+05</td>\n",
       "      <td>46.00</td>\n",
       "      <td>2013</td>\n",
       "      <td>34</td>\n",
       "      <td>30.19</td>\n",
       "      <td>27.97</td>\n",
       "    </tr>\n",
       "    <tr>\n",
       "      <th>3</th>\n",
       "      <td>6</td>\n",
       "      <td>Historical</td>\n",
       "      <td>115883</td>\n",
       "      <td>1.0</td>\n",
       "      <td>1.0</td>\n",
       "      <td>D</td>\n",
       "      <td>4</td>\n",
       "      <td>1</td>\n",
       "      <td>3.340110e+05</td>\n",
       "      <td>100.00</td>\n",
       "      <td>2006</td>\n",
       "      <td>20</td>\n",
       "      <td>133.93</td>\n",
       "      <td>83.15</td>\n",
       "    </tr>\n",
       "    <tr>\n",
       "      <th>4</th>\n",
       "      <td>7</td>\n",
       "      <td>Historical</td>\n",
       "      <td>863939</td>\n",
       "      <td>1.0</td>\n",
       "      <td>1.0</td>\n",
       "      <td>D</td>\n",
       "      <td>2</td>\n",
       "      <td>1</td>\n",
       "      <td>1.287938e+06</td>\n",
       "      <td>121.95</td>\n",
       "      <td>2010</td>\n",
       "      <td>28</td>\n",
       "      <td>4.00</td>\n",
       "      <td>23.99</td>\n",
       "    </tr>\n",
       "    <tr>\n",
       "      <th>...</th>\n",
       "      <td>...</td>\n",
       "      <td>...</td>\n",
       "      <td>...</td>\n",
       "      <td>...</td>\n",
       "      <td>...</td>\n",
       "      <td>...</td>\n",
       "      <td>...</td>\n",
       "      <td>...</td>\n",
       "      <td>...</td>\n",
       "      <td>...</td>\n",
       "      <td>...</td>\n",
       "      <td>...</td>\n",
       "      <td>...</td>\n",
       "      <td>...</td>\n",
       "    </tr>\n",
       "    <tr>\n",
       "      <th>198912</th>\n",
       "      <td>208023</td>\n",
       "      <td>Active</td>\n",
       "      <td>109683</td>\n",
       "      <td>NaN</td>\n",
       "      <td>NaN</td>\n",
       "      <td>D</td>\n",
       "      <td>7</td>\n",
       "      <td>1</td>\n",
       "      <td>2.101869e+05</td>\n",
       "      <td>72.87</td>\n",
       "      <td>2006</td>\n",
       "      <td>54</td>\n",
       "      <td>8.46</td>\n",
       "      <td>60.59</td>\n",
       "    </tr>\n",
       "    <tr>\n",
       "      <th>198913</th>\n",
       "      <td>208024</td>\n",
       "      <td>Active</td>\n",
       "      <td>416462</td>\n",
       "      <td>NaN</td>\n",
       "      <td>NaN</td>\n",
       "      <td>D</td>\n",
       "      <td>8</td>\n",
       "      <td>1</td>\n",
       "      <td>4.555041e+05</td>\n",
       "      <td>247.00</td>\n",
       "      <td>2009</td>\n",
       "      <td>65</td>\n",
       "      <td>8.40</td>\n",
       "      <td>74.85</td>\n",
       "    </tr>\n",
       "    <tr>\n",
       "      <th>198914</th>\n",
       "      <td>208025</td>\n",
       "      <td>Active</td>\n",
       "      <td>658242</td>\n",
       "      <td>NaN</td>\n",
       "      <td>NaN</td>\n",
       "      <td>S</td>\n",
       "      <td>2</td>\n",
       "      <td>1</td>\n",
       "      <td>1.692746e+05</td>\n",
       "      <td>50.00</td>\n",
       "      <td>2012</td>\n",
       "      <td>23</td>\n",
       "      <td>23.98</td>\n",
       "      <td>32.62</td>\n",
       "    </tr>\n",
       "    <tr>\n",
       "      <th>198915</th>\n",
       "      <td>208026</td>\n",
       "      <td>Active</td>\n",
       "      <td>2538340</td>\n",
       "      <td>NaN</td>\n",
       "      <td>NaN</td>\n",
       "      <td>S</td>\n",
       "      <td>2</td>\n",
       "      <td>1</td>\n",
       "      <td>3.775266e+05</td>\n",
       "      <td>46.95</td>\n",
       "      <td>2001</td>\n",
       "      <td>23</td>\n",
       "      <td>27.42</td>\n",
       "      <td>37.89</td>\n",
       "    </tr>\n",
       "    <tr>\n",
       "      <th>198916</th>\n",
       "      <td>208027</td>\n",
       "      <td>Active</td>\n",
       "      <td>416662</td>\n",
       "      <td>NaN</td>\n",
       "      <td>NaN</td>\n",
       "      <td>D</td>\n",
       "      <td>15</td>\n",
       "      <td>1</td>\n",
       "      <td>1.183068e+05</td>\n",
       "      <td>120.00</td>\n",
       "      <td>2010</td>\n",
       "      <td>44</td>\n",
       "      <td>10.97</td>\n",
       "      <td>60.67</td>\n",
       "    </tr>\n",
       "  </tbody>\n",
       "</table>\n",
       "<p>198917 rows × 14 columns</p>\n",
       "</div>"
      ],
      "text/plain": [
       "         Order   File_Type  SKU_number  SoldFlag  SoldCount MarketingType  \\\n",
       "0            2  Historical     1737127       0.0        0.0             D   \n",
       "1            3  Historical     3255963       0.0        0.0             D   \n",
       "2            4  Historical      612701       0.0        0.0             D   \n",
       "3            6  Historical      115883       1.0        1.0             D   \n",
       "4            7  Historical      863939       1.0        1.0             D   \n",
       "...        ...         ...         ...       ...        ...           ...   \n",
       "198912  208023      Active      109683       NaN        NaN             D   \n",
       "198913  208024      Active      416462       NaN        NaN             D   \n",
       "198914  208025      Active      658242       NaN        NaN             S   \n",
       "198915  208026      Active     2538340       NaN        NaN             S   \n",
       "198916  208027      Active      416662       NaN        NaN             D   \n",
       "\n",
       "        ReleaseNumber  New_Release_Flag  StrengthFactor  PriceReg  \\\n",
       "0                  15                 1    6.827430e+05     44.99   \n",
       "1                   7                 1    1.016014e+06     24.81   \n",
       "2                   0                 0    3.404640e+05     46.00   \n",
       "3                   4                 1    3.340110e+05    100.00   \n",
       "4                   2                 1    1.287938e+06    121.95   \n",
       "...               ...               ...             ...       ...   \n",
       "198912              7                 1    2.101869e+05     72.87   \n",
       "198913              8                 1    4.555041e+05    247.00   \n",
       "198914              2                 1    1.692746e+05     50.00   \n",
       "198915              2                 1    3.775266e+05     46.95   \n",
       "198916             15                 1    1.183068e+05    120.00   \n",
       "\n",
       "        ReleaseYear  ItemCount  LowUserPrice  LowNetPrice  \n",
       "0              2015          8         28.97        31.84  \n",
       "1              2005         39          0.00        15.54  \n",
       "2              2013         34         30.19        27.97  \n",
       "3              2006         20        133.93        83.15  \n",
       "4              2010         28          4.00        23.99  \n",
       "...             ...        ...           ...          ...  \n",
       "198912         2006         54          8.46        60.59  \n",
       "198913         2009         65          8.40        74.85  \n",
       "198914         2012         23         23.98        32.62  \n",
       "198915         2001         23         27.42        37.89  \n",
       "198916         2010         44         10.97        60.67  \n",
       "\n",
       "[198917 rows x 14 columns]"
      ]
     },
     "execution_count": 8,
     "metadata": {},
     "output_type": "execute_result"
    }
   ],
   "source": [
    "da"
   ]
  },
  {
   "cell_type": "markdown",
   "id": "e1154d98-0766-4054-b124-d3e908fd664e",
   "metadata": {},
   "source": [
    "#### We have to Clean the Data"
   ]
  },
  {
   "cell_type": "code",
   "execution_count": 6,
   "id": "261b996c-bfcf-45e3-b94b-cbf97d2d562a",
   "metadata": {},
   "outputs": [
    {
     "name": "stdout",
     "output_type": "stream",
     "text": [
      "Number of duplicate rows: 0\n"
     ]
    }
   ],
   "source": [
    "## To check the duplicates values\n",
    "duplicates = da.duplicated().sum()\n",
    "print(f\"Number of duplicate rows: {duplicates}\")"
   ]
  },
  {
   "cell_type": "code",
   "execution_count": 8,
   "id": "91189187-b481-4fef-875c-e8e1c9c7411f",
   "metadata": {},
   "outputs": [
    {
     "name": "stdout",
     "output_type": "stream",
     "text": [
      "Order                    0\n",
      "File_Type                0\n",
      "SKU_number               0\n",
      "SoldFlag            122921\n",
      "SoldCount           122921\n",
      "MarketingType            0\n",
      "ReleaseNumber            0\n",
      "New_Release_Flag         0\n",
      "StrengthFactor           0\n",
      "PriceReg                 0\n",
      "ReleaseYear              0\n",
      "ItemCount                0\n",
      "LowUserPrice             0\n",
      "LowNetPrice              0\n",
      "dtype: int64\n"
     ]
    }
   ],
   "source": [
    "## Now we have to check the null values\n",
    "print(da.isnull().sum())"
   ]
  },
  {
   "cell_type": "markdown",
   "id": "8d9d0cf2-b79a-4464-9185-99219ed85a0c",
   "metadata": {},
   "source": [
    "##### Here We can see that null values are in 2 columns\n",
    "##### So, we have to handle it"
   ]
  },
  {
   "cell_type": "code",
   "execution_count": 13,
   "id": "435cb512-eef0-4643-905a-e568c7d65664",
   "metadata": {},
   "outputs": [],
   "source": [
    "da['SoldFlag'].fillna(0, inplace=True)\n",
    "da['SoldCount'].fillna(0, inplace=True)"
   ]
  },
  {
   "cell_type": "code",
   "execution_count": 15,
   "id": "3a49b421-1d81-4999-950c-5172d0d9db6d",
   "metadata": {},
   "outputs": [
    {
     "name": "stdout",
     "output_type": "stream",
     "text": [
      "Order               0\n",
      "File_Type           0\n",
      "SKU_number          0\n",
      "SoldFlag            0\n",
      "SoldCount           0\n",
      "MarketingType       0\n",
      "ReleaseNumber       0\n",
      "New_Release_Flag    0\n",
      "StrengthFactor      0\n",
      "PriceReg            0\n",
      "ReleaseYear         0\n",
      "ItemCount           0\n",
      "LowUserPrice        0\n",
      "LowNetPrice         0\n",
      "dtype: int64\n"
     ]
    }
   ],
   "source": [
    "print(da.isnull().sum())"
   ]
  },
  {
   "cell_type": "markdown",
   "id": "fdad17d9-e2e2-48b0-a208-38b6adc63c0e",
   "metadata": {},
   "source": [
    "##### Here we can see that after handling the missing values here are no any null values"
   ]
  },
  {
   "cell_type": "markdown",
   "id": "e3332b0b-d88e-495a-af72-46b769279ece",
   "metadata": {},
   "source": [
    "#### We have to save this file and do more operations on it"
   ]
  },
  {
   "cell_type": "code",
   "execution_count": 19,
   "id": "a2df00b1-9e4f-4e9c-8d9e-fe226f74825d",
   "metadata": {},
   "outputs": [],
   "source": [
    "da.to_excel('Cleaned Boxify Dataset.xlsx', index=False)"
   ]
  },
  {
   "cell_type": "code",
   "execution_count": 20,
   "id": "fbbd932d-3cc2-4ad6-ad06-442d6d09f2a3",
   "metadata": {},
   "outputs": [],
   "source": [
    "from IPython.display import FileLink"
   ]
  },
  {
   "cell_type": "code",
   "execution_count": 25,
   "id": "11f96b36-0ac5-4dd1-8fb4-8ac2e055059a",
   "metadata": {},
   "outputs": [
    {
     "data": {
      "text/html": [
       "<a href='Cleaned Boxify Dataset.xlsx' target='_blank'>Cleaned Boxify Dataset.xlsx</a><br>"
      ],
      "text/plain": [
       "C:\\Users\\RCW\\OneDrive\\Desktop\\Cleaned Boxify Dataset.xlsx"
      ]
     },
     "execution_count": 25,
     "metadata": {},
     "output_type": "execute_result"
    }
   ],
   "source": [
    "FileLink('Cleaned Boxify Dataset.xlsx')"
   ]
  },
  {
   "cell_type": "markdown",
   "id": "d733a1d3-170e-43b0-ab8f-bf506b327b7e",
   "metadata": {},
   "source": [
    "##### We save the cleaned data in excel "
   ]
  },
  {
   "cell_type": "code",
   "execution_count": 23,
   "id": "bf893d19-f343-4775-a058-5920171f644d",
   "metadata": {},
   "outputs": [],
   "source": [
    "ds= pd.read_excel('Cleaned Boxify Dataset.xlsx')"
   ]
  },
  {
   "cell_type": "code",
   "execution_count": 25,
   "id": "793a90bd-e3ab-4bcd-b624-062e9cd90f01",
   "metadata": {},
   "outputs": [
    {
     "data": {
      "text/html": [
       "<div>\n",
       "<style scoped>\n",
       "    .dataframe tbody tr th:only-of-type {\n",
       "        vertical-align: middle;\n",
       "    }\n",
       "\n",
       "    .dataframe tbody tr th {\n",
       "        vertical-align: top;\n",
       "    }\n",
       "\n",
       "    .dataframe thead th {\n",
       "        text-align: right;\n",
       "    }\n",
       "</style>\n",
       "<table border=\"1\" class=\"dataframe\">\n",
       "  <thead>\n",
       "    <tr style=\"text-align: right;\">\n",
       "      <th></th>\n",
       "      <th>Order</th>\n",
       "      <th>File_Type</th>\n",
       "      <th>SKU_number</th>\n",
       "      <th>SoldFlag</th>\n",
       "      <th>SoldCount</th>\n",
       "      <th>MarketingType</th>\n",
       "      <th>ReleaseNumber</th>\n",
       "      <th>New_Release_Flag</th>\n",
       "      <th>StrengthFactor</th>\n",
       "      <th>PriceReg</th>\n",
       "      <th>ReleaseYear</th>\n",
       "      <th>ItemCount</th>\n",
       "      <th>LowUserPrice</th>\n",
       "      <th>LowNetPrice</th>\n",
       "    </tr>\n",
       "  </thead>\n",
       "  <tbody>\n",
       "    <tr>\n",
       "      <th>0</th>\n",
       "      <td>2</td>\n",
       "      <td>Historical</td>\n",
       "      <td>1737127</td>\n",
       "      <td>0</td>\n",
       "      <td>0</td>\n",
       "      <td>D</td>\n",
       "      <td>15</td>\n",
       "      <td>1</td>\n",
       "      <td>6.827430e+05</td>\n",
       "      <td>44.99</td>\n",
       "      <td>2015</td>\n",
       "      <td>8</td>\n",
       "      <td>28.97</td>\n",
       "      <td>31.84</td>\n",
       "    </tr>\n",
       "    <tr>\n",
       "      <th>1</th>\n",
       "      <td>3</td>\n",
       "      <td>Historical</td>\n",
       "      <td>3255963</td>\n",
       "      <td>0</td>\n",
       "      <td>0</td>\n",
       "      <td>D</td>\n",
       "      <td>7</td>\n",
       "      <td>1</td>\n",
       "      <td>1.016014e+06</td>\n",
       "      <td>24.81</td>\n",
       "      <td>2005</td>\n",
       "      <td>39</td>\n",
       "      <td>0.00</td>\n",
       "      <td>15.54</td>\n",
       "    </tr>\n",
       "    <tr>\n",
       "      <th>2</th>\n",
       "      <td>4</td>\n",
       "      <td>Historical</td>\n",
       "      <td>612701</td>\n",
       "      <td>0</td>\n",
       "      <td>0</td>\n",
       "      <td>D</td>\n",
       "      <td>0</td>\n",
       "      <td>0</td>\n",
       "      <td>3.404640e+05</td>\n",
       "      <td>46.00</td>\n",
       "      <td>2013</td>\n",
       "      <td>34</td>\n",
       "      <td>30.19</td>\n",
       "      <td>27.97</td>\n",
       "    </tr>\n",
       "    <tr>\n",
       "      <th>3</th>\n",
       "      <td>6</td>\n",
       "      <td>Historical</td>\n",
       "      <td>115883</td>\n",
       "      <td>1</td>\n",
       "      <td>1</td>\n",
       "      <td>D</td>\n",
       "      <td>4</td>\n",
       "      <td>1</td>\n",
       "      <td>3.340110e+05</td>\n",
       "      <td>100.00</td>\n",
       "      <td>2006</td>\n",
       "      <td>20</td>\n",
       "      <td>133.93</td>\n",
       "      <td>83.15</td>\n",
       "    </tr>\n",
       "    <tr>\n",
       "      <th>4</th>\n",
       "      <td>7</td>\n",
       "      <td>Historical</td>\n",
       "      <td>863939</td>\n",
       "      <td>1</td>\n",
       "      <td>1</td>\n",
       "      <td>D</td>\n",
       "      <td>2</td>\n",
       "      <td>1</td>\n",
       "      <td>1.287938e+06</td>\n",
       "      <td>121.95</td>\n",
       "      <td>2010</td>\n",
       "      <td>28</td>\n",
       "      <td>4.00</td>\n",
       "      <td>23.99</td>\n",
       "    </tr>\n",
       "    <tr>\n",
       "      <th>...</th>\n",
       "      <td>...</td>\n",
       "      <td>...</td>\n",
       "      <td>...</td>\n",
       "      <td>...</td>\n",
       "      <td>...</td>\n",
       "      <td>...</td>\n",
       "      <td>...</td>\n",
       "      <td>...</td>\n",
       "      <td>...</td>\n",
       "      <td>...</td>\n",
       "      <td>...</td>\n",
       "      <td>...</td>\n",
       "      <td>...</td>\n",
       "      <td>...</td>\n",
       "    </tr>\n",
       "    <tr>\n",
       "      <th>198912</th>\n",
       "      <td>208023</td>\n",
       "      <td>Active</td>\n",
       "      <td>109683</td>\n",
       "      <td>0</td>\n",
       "      <td>0</td>\n",
       "      <td>D</td>\n",
       "      <td>7</td>\n",
       "      <td>1</td>\n",
       "      <td>2.101869e+05</td>\n",
       "      <td>72.87</td>\n",
       "      <td>2006</td>\n",
       "      <td>54</td>\n",
       "      <td>8.46</td>\n",
       "      <td>60.59</td>\n",
       "    </tr>\n",
       "    <tr>\n",
       "      <th>198913</th>\n",
       "      <td>208024</td>\n",
       "      <td>Active</td>\n",
       "      <td>416462</td>\n",
       "      <td>0</td>\n",
       "      <td>0</td>\n",
       "      <td>D</td>\n",
       "      <td>8</td>\n",
       "      <td>1</td>\n",
       "      <td>4.555041e+05</td>\n",
       "      <td>247.00</td>\n",
       "      <td>2009</td>\n",
       "      <td>65</td>\n",
       "      <td>8.40</td>\n",
       "      <td>74.85</td>\n",
       "    </tr>\n",
       "    <tr>\n",
       "      <th>198914</th>\n",
       "      <td>208025</td>\n",
       "      <td>Active</td>\n",
       "      <td>658242</td>\n",
       "      <td>0</td>\n",
       "      <td>0</td>\n",
       "      <td>S</td>\n",
       "      <td>2</td>\n",
       "      <td>1</td>\n",
       "      <td>1.692746e+05</td>\n",
       "      <td>50.00</td>\n",
       "      <td>2012</td>\n",
       "      <td>23</td>\n",
       "      <td>23.98</td>\n",
       "      <td>32.62</td>\n",
       "    </tr>\n",
       "    <tr>\n",
       "      <th>198915</th>\n",
       "      <td>208026</td>\n",
       "      <td>Active</td>\n",
       "      <td>2538340</td>\n",
       "      <td>0</td>\n",
       "      <td>0</td>\n",
       "      <td>S</td>\n",
       "      <td>2</td>\n",
       "      <td>1</td>\n",
       "      <td>3.775266e+05</td>\n",
       "      <td>46.95</td>\n",
       "      <td>2001</td>\n",
       "      <td>23</td>\n",
       "      <td>27.42</td>\n",
       "      <td>37.89</td>\n",
       "    </tr>\n",
       "    <tr>\n",
       "      <th>198916</th>\n",
       "      <td>208027</td>\n",
       "      <td>Active</td>\n",
       "      <td>416662</td>\n",
       "      <td>0</td>\n",
       "      <td>0</td>\n",
       "      <td>D</td>\n",
       "      <td>15</td>\n",
       "      <td>1</td>\n",
       "      <td>1.183068e+05</td>\n",
       "      <td>120.00</td>\n",
       "      <td>2010</td>\n",
       "      <td>44</td>\n",
       "      <td>10.97</td>\n",
       "      <td>60.67</td>\n",
       "    </tr>\n",
       "  </tbody>\n",
       "</table>\n",
       "<p>198917 rows × 14 columns</p>\n",
       "</div>"
      ],
      "text/plain": [
       "         Order   File_Type  SKU_number  SoldFlag  SoldCount MarketingType  \\\n",
       "0            2  Historical     1737127         0          0             D   \n",
       "1            3  Historical     3255963         0          0             D   \n",
       "2            4  Historical      612701         0          0             D   \n",
       "3            6  Historical      115883         1          1             D   \n",
       "4            7  Historical      863939         1          1             D   \n",
       "...        ...         ...         ...       ...        ...           ...   \n",
       "198912  208023      Active      109683         0          0             D   \n",
       "198913  208024      Active      416462         0          0             D   \n",
       "198914  208025      Active      658242         0          0             S   \n",
       "198915  208026      Active     2538340         0          0             S   \n",
       "198916  208027      Active      416662         0          0             D   \n",
       "\n",
       "        ReleaseNumber  New_Release_Flag  StrengthFactor  PriceReg  \\\n",
       "0                  15                 1    6.827430e+05     44.99   \n",
       "1                   7                 1    1.016014e+06     24.81   \n",
       "2                   0                 0    3.404640e+05     46.00   \n",
       "3                   4                 1    3.340110e+05    100.00   \n",
       "4                   2                 1    1.287938e+06    121.95   \n",
       "...               ...               ...             ...       ...   \n",
       "198912              7                 1    2.101869e+05     72.87   \n",
       "198913              8                 1    4.555041e+05    247.00   \n",
       "198914              2                 1    1.692746e+05     50.00   \n",
       "198915              2                 1    3.775266e+05     46.95   \n",
       "198916             15                 1    1.183068e+05    120.00   \n",
       "\n",
       "        ReleaseYear  ItemCount  LowUserPrice  LowNetPrice  \n",
       "0              2015          8         28.97        31.84  \n",
       "1              2005         39          0.00        15.54  \n",
       "2              2013         34         30.19        27.97  \n",
       "3              2006         20        133.93        83.15  \n",
       "4              2010         28          4.00        23.99  \n",
       "...             ...        ...           ...          ...  \n",
       "198912         2006         54          8.46        60.59  \n",
       "198913         2009         65          8.40        74.85  \n",
       "198914         2012         23         23.98        32.62  \n",
       "198915         2001         23         27.42        37.89  \n",
       "198916         2010         44         10.97        60.67  \n",
       "\n",
       "[198917 rows x 14 columns]"
      ]
     },
     "execution_count": 25,
     "metadata": {},
     "output_type": "execute_result"
    }
   ],
   "source": [
    "ds"
   ]
  },
  {
   "cell_type": "markdown",
   "id": "b3c97514-6e57-4edb-9b6c-14fd86264516",
   "metadata": {},
   "source": [
    "### Exploratory Data Analysis (EDA)"
   ]
  },
  {
   "cell_type": "markdown",
   "id": "107587fe-747f-407b-8f01-8fc2b664c1cc",
   "metadata": {},
   "source": [
    "##### Sales Trends and variation over time(Aggregate Sales Data by Year)"
   ]
  },
  {
   "cell_type": "code",
   "execution_count": 29,
   "id": "413a322a-b8b0-403d-8a4f-316f70be1853",
   "metadata": {},
   "outputs": [
    {
     "data": {
      "text/html": [
       "<div>\n",
       "<style scoped>\n",
       "    .dataframe tbody tr th:only-of-type {\n",
       "        vertical-align: middle;\n",
       "    }\n",
       "\n",
       "    .dataframe tbody tr th {\n",
       "        vertical-align: top;\n",
       "    }\n",
       "\n",
       "    .dataframe thead th {\n",
       "        text-align: right;\n",
       "    }\n",
       "</style>\n",
       "<table border=\"1\" class=\"dataframe\">\n",
       "  <thead>\n",
       "    <tr style=\"text-align: right;\">\n",
       "      <th></th>\n",
       "      <th>ReleaseYear</th>\n",
       "      <th>SoldCount</th>\n",
       "    </tr>\n",
       "  </thead>\n",
       "  <tbody>\n",
       "    <tr>\n",
       "      <th>0</th>\n",
       "      <td>0</td>\n",
       "      <td>0</td>\n",
       "    </tr>\n",
       "    <tr>\n",
       "      <th>1</th>\n",
       "      <td>1900</td>\n",
       "      <td>0</td>\n",
       "    </tr>\n",
       "    <tr>\n",
       "      <th>2</th>\n",
       "      <td>1904</td>\n",
       "      <td>0</td>\n",
       "    </tr>\n",
       "    <tr>\n",
       "      <th>3</th>\n",
       "      <td>1905</td>\n",
       "      <td>0</td>\n",
       "    </tr>\n",
       "    <tr>\n",
       "      <th>4</th>\n",
       "      <td>1914</td>\n",
       "      <td>0</td>\n",
       "    </tr>\n",
       "    <tr>\n",
       "      <th>...</th>\n",
       "      <td>...</td>\n",
       "      <td>...</td>\n",
       "    </tr>\n",
       "    <tr>\n",
       "      <th>80</th>\n",
       "      <td>2014</td>\n",
       "      <td>794</td>\n",
       "    </tr>\n",
       "    <tr>\n",
       "      <th>81</th>\n",
       "      <td>2015</td>\n",
       "      <td>122</td>\n",
       "    </tr>\n",
       "    <tr>\n",
       "      <th>82</th>\n",
       "      <td>2016</td>\n",
       "      <td>3</td>\n",
       "    </tr>\n",
       "    <tr>\n",
       "      <th>83</th>\n",
       "      <td>2017</td>\n",
       "      <td>0</td>\n",
       "    </tr>\n",
       "    <tr>\n",
       "      <th>84</th>\n",
       "      <td>2018</td>\n",
       "      <td>0</td>\n",
       "    </tr>\n",
       "  </tbody>\n",
       "</table>\n",
       "<p>85 rows × 2 columns</p>\n",
       "</div>"
      ],
      "text/plain": [
       "    ReleaseYear  SoldCount\n",
       "0             0          0\n",
       "1          1900          0\n",
       "2          1904          0\n",
       "3          1905          0\n",
       "4          1914          0\n",
       "..          ...        ...\n",
       "80         2014        794\n",
       "81         2015        122\n",
       "82         2016          3\n",
       "83         2017          0\n",
       "84         2018          0\n",
       "\n",
       "[85 rows x 2 columns]"
      ]
     },
     "execution_count": 29,
     "metadata": {},
     "output_type": "execute_result"
    }
   ],
   "source": [
    "sales_trends = ds.groupby('ReleaseYear')['SoldCount'].sum().reset_index()\n",
    "sales_trends"
   ]
  },
  {
   "cell_type": "code",
   "execution_count": 31,
   "id": "a46736ca-af15-474c-93f2-76cbd8e05923",
   "metadata": {},
   "outputs": [
    {
     "name": "stdout",
     "output_type": "stream",
     "text": [
      "    ReleaseYear  SoldCount            Trend\n",
      "0             0          0    Downfall Year\n",
      "1          1900          0    Downfall Year\n",
      "2          1904          0    Downfall Year\n",
      "3          1905          0    Downfall Year\n",
      "4          1914          0    Downfall Year\n",
      "..          ...        ...              ...\n",
      "80         2014        794  Profitable Year\n",
      "81         2015        122     Average Year\n",
      "82         2016          3    Downfall Year\n",
      "83         2017          0    Downfall Year\n",
      "84         2018          0    Downfall Year\n",
      "\n",
      "[85 rows x 3 columns]\n"
     ]
    }
   ],
   "source": [
    "# Apply the seasonal trend logic to classify sales trends\n",
    "def classify_sales_trend(sales):\n",
    "    if sales < 20:\n",
    "        return \"Downfall Year\"\n",
    "    elif sales < 200:\n",
    "        return \"Average Year\"\n",
    "    else:\n",
    "        return \"Profitable Year\"\n",
    "sales_trends['Trend'] = sales_trends['SoldCount'].apply(classify_sales_trend)\n",
    "print(sales_trends)"
   ]
  },
  {
   "cell_type": "markdown",
   "id": "5ce776b1-ad2f-4c42-93c1-1d14e008f172",
   "metadata": {},
   "source": [
    "##### Identify top-selling products and categories."
   ]
  },
  {
   "cell_type": "code",
   "execution_count": 34,
   "id": "1f993b9d-6f7a-46c3-90be-340d1cd2c90e",
   "metadata": {},
   "outputs": [],
   "source": [
    "top_products = ds.groupby('SKU_number')['SoldCount'].sum().sort_values(ascending=False).head(10)"
   ]
  },
  {
   "cell_type": "code",
   "execution_count": 36,
   "id": "615075b0-3caa-44e0-8754-d5b0fd69a038",
   "metadata": {},
   "outputs": [
    {
     "data": {
      "text/plain": [
       "SKU_number\n",
       "665269    73\n",
       "613864    69\n",
       "141848    51\n",
       "254518    40\n",
       "767846    36\n",
       "55769     36\n",
       "416609    35\n",
       "243550    34\n",
       "141824    33\n",
       "747765    30\n",
       "Name: SoldCount, dtype: int64"
      ]
     },
     "execution_count": 36,
     "metadata": {},
     "output_type": "execute_result"
    }
   ],
   "source": [
    "top_products"
   ]
  },
  {
   "cell_type": "code",
   "execution_count": 45,
   "id": "2aa80e2f-9493-483f-b21e-26dc0b8a1995",
   "metadata": {},
   "outputs": [
    {
     "name": "stdout",
     "output_type": "stream",
     "text": [
      "File_Type\n",
      "Historical    24494\n",
      "Active            0\n",
      "Name: SoldCount, dtype: int64\n"
     ]
    }
   ],
   "source": [
    "top_categories = ds.groupby('File_Type')['SoldCount'].sum().sort_values(ascending=False)\n",
    "print(top_categories)"
   ]
  },
  {
   "cell_type": "markdown",
   "id": "93045c8d-6f21-4453-8326-20a79ff8aa14",
   "metadata": {},
   "source": [
    "##### Investigate stock levels and low-stock items"
   ]
  },
  {
   "cell_type": "code",
   "execution_count": 48,
   "id": "f410dd21-1745-4dc5-aa14-205e969d32fd",
   "metadata": {},
   "outputs": [],
   "source": [
    "stock_level = ds.groupby('SKU_number')['ItemCount'].sum().sort_values(ascending=False)"
   ]
  },
  {
   "cell_type": "code",
   "execution_count": 50,
   "id": "84b29a82-e7b2-404d-8ca0-453ab101ba2c",
   "metadata": {},
   "outputs": [
    {
     "data": {
      "text/plain": [
       "SKU_number\n",
       "536345     3046\n",
       "198645     2852\n",
       "672549     2542\n",
       "543471     1920\n",
       "612805     1860\n",
       "           ... \n",
       "862455        0\n",
       "2281256       0\n",
       "2281296       0\n",
       "2281309       0\n",
       "2558237       0\n",
       "Name: ItemCount, Length: 133360, dtype: int64"
      ]
     },
     "execution_count": 50,
     "metadata": {},
     "output_type": "execute_result"
    }
   ],
   "source": [
    "stock_level"
   ]
  },
  {
   "cell_type": "code",
   "execution_count": 52,
   "id": "f4de66f4-4d56-40f9-8839-d251aaa6be67",
   "metadata": {},
   "outputs": [
    {
     "name": "stdout",
     "output_type": "stream",
     "text": [
      "Low-stock items:\n",
      "        SKU_number  ItemCount\n",
      "0          1737127          8\n",
      "118         873654          5\n",
      "350         613288          9\n",
      "797         521116          2\n",
      "1073        659971          8\n",
      "...            ...        ...\n",
      "197792      766251          6\n",
      "198244     2511839          7\n",
      "198260     2287680          0\n",
      "198310     1456205          9\n",
      "198520     1624605          2\n",
      "\n",
      "[3379 rows x 2 columns]\n"
     ]
    }
   ],
   "source": [
    "## Show only those SKU_number whose item count is less than or equals to 10\n",
    "thresold= 10\n",
    "low_stock_items = ds[ds['ItemCount'] < thresold]\n",
    "\n",
    "print(\"Low-stock items:\")\n",
    "print(low_stock_items[['SKU_number', 'ItemCount']])\n"
   ]
  },
  {
   "cell_type": "code",
   "execution_count": 54,
   "id": "7a1b09fd-1f35-4e47-90cc-bde40eeb8ffe",
   "metadata": {},
   "outputs": [],
   "source": [
    "low_stock_summary=low_stock_items.groupby('SKU_number')['ItemCount'].min().sort_values().head(100)"
   ]
  },
  {
   "cell_type": "code",
   "execution_count": 56,
   "id": "f8c61583-19dd-4fc4-ae86-63f5a6450ce0",
   "metadata": {},
   "outputs": [
    {
     "data": {
      "text/plain": [
       "SKU_number\n",
       "2032231    0\n",
       "3530648    0\n",
       "3748942    0\n",
       "2287580    0\n",
       "2287680    0\n",
       "          ..\n",
       "2299367    0\n",
       "2298513    0\n",
       "2575187    0\n",
       "3634467    0\n",
       "2291822    0\n",
       "Name: ItemCount, Length: 100, dtype: int64"
      ]
     },
     "execution_count": 56,
     "metadata": {},
     "output_type": "execute_result"
    }
   ],
   "source": [
    "low_stock_summary"
   ]
  },
  {
   "cell_type": "markdown",
   "id": "fffb17d7-0b3f-4ef0-9a9d-6c54d4ebc57f",
   "metadata": {},
   "source": [
    "### Inventory Insights and Recommendations"
   ]
  },
  {
   "cell_type": "markdown",
   "id": "bf36a478-e5f2-4631-a226-85cae4c733db",
   "metadata": {},
   "source": [
    "##### Inventory turnover"
   ]
  },
  {
   "cell_type": "code",
   "execution_count": 60,
   "id": "a338e9f6-486b-42a6-986c-186ac8c3c11b",
   "metadata": {},
   "outputs": [
    {
     "data": {
      "text/plain": [
       "41.42628332420055"
      ]
     },
     "execution_count": 60,
     "metadata": {},
     "output_type": "execute_result"
    }
   ],
   "source": [
    "## We have to calculate average inventory because it used in inventory turnover\n",
    "avg_inventory=ds['ItemCount'].mean()\n",
    "avg_inventory"
   ]
  },
  {
   "cell_type": "code",
   "execution_count": 62,
   "id": "ab9bc05d-2a30-4e6a-a8af-9aa2f9952ae2",
   "metadata": {},
   "outputs": [
    {
     "name": "stdout",
     "output_type": "stream",
     "text": [
      "Inventory Turnover: 591.27\n"
     ]
    }
   ],
   "source": [
    "# Example formula: Inventory Turnover = Total SoldCount / Average ItemCount\n",
    "inventory_turnover = ds['SoldCount'].sum() / avg_inventory\n",
    "print(f\"Inventory Turnover: {inventory_turnover:.2f}\")\n"
   ]
  },
  {
   "cell_type": "markdown",
   "id": "656f41be-c302-4e8f-b9b7-d15d526b6050",
   "metadata": {},
   "source": [
    "##### stock-to-sales ratio"
   ]
  },
  {
   "cell_type": "code",
   "execution_count": 65,
   "id": "ca0f9d60-2882-4320-83c6-6c71ea62931a",
   "metadata": {},
   "outputs": [
    {
     "data": {
      "text/plain": [
       "24494"
      ]
     },
     "execution_count": 65,
     "metadata": {},
     "output_type": "execute_result"
    }
   ],
   "source": [
    "## we have to calculate total sales because it used in reorder points\n",
    "total_sales=ds['SoldCount'].sum()\n",
    "total_sales"
   ]
  },
  {
   "cell_type": "code",
   "execution_count": 67,
   "id": "0f3c9f60-1c45-4bc7-b24a-e91665ee1af1",
   "metadata": {},
   "outputs": [
    {
     "name": "stdout",
     "output_type": "stream",
     "text": [
      "Stock-to-Sales Ratio:, 0.0017\n"
     ]
    }
   ],
   "source": [
    "#Stock-to-sales ratio\n",
    "stock_to_sales_ratio = avg_inventory/total_sales\n",
    "print(f\"Stock-to-Sales Ratio:, {stock_to_sales_ratio:.4f}\")\n"
   ]
  },
  {
   "cell_type": "markdown",
   "id": "0721f2d5-213e-41f7-a005-2dffa386e579",
   "metadata": {},
   "source": [
    "##### reorder points"
   ]
  },
  {
   "cell_type": "code",
   "execution_count": 70,
   "id": "b1e1ecdc-4a36-499b-aeb1-0071f1f100a7",
   "metadata": {},
   "outputs": [
    {
     "data": {
      "text/plain": [
       "67.10684931506849"
      ]
     },
     "execution_count": 70,
     "metadata": {},
     "output_type": "execute_result"
    }
   ],
   "source": [
    "lead_days = 7\n",
    "days_in_datasets = 365\n",
    "## To calculate average_daily_sales we have to divide total_sales by the days_in_datasets\n",
    "avg_daily_sales=total_sales/days_in_datasets\n",
    "avg_daily_sales"
   ]
  },
  {
   "cell_type": "code",
   "execution_count": 72,
   "id": "81c63f62-3f5e-42f0-9b8d-c7f2db9c8595",
   "metadata": {},
   "outputs": [
    {
     "name": "stdout",
     "output_type": "stream",
     "text": [
      "Reorder Points= 469.7479452054794\n"
     ]
    }
   ],
   "source": [
    "## To calculate Reorder Point we have to multiply avg_daily_sales with lead_days\n",
    "reorder_point= avg_daily_sales*lead_days\n",
    "print(\"Reorder Points=\",reorder_point)"
   ]
  },
  {
   "cell_type": "markdown",
   "id": "a58f6d7d-0177-48d4-a2cf-3dd37240293f",
   "metadata": {},
   "source": [
    "#### Action Recommendation"
   ]
  },
  {
   "cell_type": "code",
   "execution_count": 75,
   "id": "cec30f45-4975-46ea-859e-622eb3bea84f",
   "metadata": {},
   "outputs": [
    {
     "data": {
      "text/plain": [
       "['Ensure sufficient stock levels for SKU 665269 is high Demand Products.',\n",
       " 'Ensure sufficient stock levels for SKU 613864 is high Demand Products.',\n",
       " 'Ensure sufficient stock levels for SKU 141848 is high Demand Products.',\n",
       " 'Ensure sufficient stock levels for SKU 254518 is high Demand Products.',\n",
       " 'Ensure sufficient stock levels for SKU 767846 is high Demand Products.',\n",
       " 'Ensure sufficient stock levels for SKU 55769 is high Demand Products.',\n",
       " 'Ensure sufficient stock levels for SKU 416609 is high Demand Products.',\n",
       " 'Ensure sufficient stock levels for SKU 243550 is high Demand Products.',\n",
       " 'Ensure sufficient stock levels for SKU 141824 is high Demand Products.',\n",
       " 'Ensure sufficient stock levels for SKU 747765 is high Demand Products.']"
      ]
     },
     "execution_count": 75,
     "metadata": {},
     "output_type": "execute_result"
    }
   ],
   "source": [
    "# Identify Top Products\n",
    "top_products_recommendation = [\n",
    "    f\"Ensure sufficient stock levels for SKU {sku} is high Demand Products.\" \n",
    "    for sku in top_products.index\n",
    "]\n",
    "top_products_recommendation\n"
   ]
  },
  {
   "cell_type": "code",
   "execution_count": 77,
   "id": "3e856fa3-8bc9-4d9a-aecd-9a4deef3112c",
   "metadata": {},
   "outputs": [
    {
     "data": {
      "text/plain": [
       "['Reorder SKU 1737127 as current stock (8) is very low so we have to place the order of this item.',\n",
       " 'Reorder SKU 873654 as current stock (5) is very low so we have to place the order of this item.',\n",
       " 'Reorder SKU 613288 as current stock (9) is very low so we have to place the order of this item.',\n",
       " 'Reorder SKU 521116 as current stock (2) is very low so we have to place the order of this item.',\n",
       " 'Reorder SKU 659971 as current stock (8) is very low so we have to place the order of this item.',\n",
       " 'Reorder SKU 1450154 as current stock (6) is very low so we have to place the order of this item.',\n",
       " 'Reorder SKU 146207 as current stock (6) is very low so we have to place the order of this item.',\n",
       " 'Reorder SKU 147350 as current stock (9) is very low so we have to place the order of this item.',\n",
       " 'Reorder SKU 1594170 as current stock (7) is very low so we have to place the order of this item.',\n",
       " 'Reorder SKU 1632797 as current stock (8) is very low so we have to place the order of this item.']"
      ]
     },
     "execution_count": 77,
     "metadata": {},
     "output_type": "execute_result"
    }
   ],
   "source": [
    "# Identify Low-stock\n",
    "low_stock_items_recommendation = [\n",
    "    f\"Reorder SKU {row['SKU_number']} as current stock ({row['ItemCount']}) is very low so we have to place the order of this item.\"\n",
    "    for _, row in low_stock_items.iterrows()\n",
    "]\n",
    "low_stock_items_recommendation[:10]"
   ]
  },
  {
   "cell_type": "code",
   "execution_count": 85,
   "id": "94287d60-b200-4b2a-a3c6-c5a4e641a9f5",
   "metadata": {},
   "outputs": [
    {
     "data": {
      "text/plain": [
       "ReleaseYear\n",
       "0          1\n",
       "1900     338\n",
       "1904       2\n",
       "1905       1\n",
       "1914       1\n",
       "        ... \n",
       "2014    7124\n",
       "2015    3862\n",
       "2016     652\n",
       "2017       6\n",
       "2018       1\n",
       "Name: SKU_number, Length: 85, dtype: int64"
      ]
     },
     "execution_count": 85,
     "metadata": {},
     "output_type": "execute_result"
    }
   ],
   "source": [
    "seasonal_trends = ds.groupby('ReleaseYear')['SKU_number'].nunique().sort_index() \n",
    "seasonal_trends"
   ]
  },
  {
   "cell_type": "code",
   "execution_count": null,
   "id": "5d9f4e5f-acd7-495e-aaa1-51337fad1bb1",
   "metadata": {},
   "outputs": [],
   "source": []
  }
 ],
 "metadata": {
  "kernelspec": {
   "display_name": "Python 3 (ipykernel)",
   "language": "python",
   "name": "python3"
  },
  "language_info": {
   "codemirror_mode": {
    "name": "ipython",
    "version": 3
   },
   "file_extension": ".py",
   "mimetype": "text/x-python",
   "name": "python",
   "nbconvert_exporter": "python",
   "pygments_lexer": "ipython3",
   "version": "3.12.4"
  }
 },
 "nbformat": 4,
 "nbformat_minor": 5
}
